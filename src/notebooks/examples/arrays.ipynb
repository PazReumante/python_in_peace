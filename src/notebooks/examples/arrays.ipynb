{
 "cells": [
  {
   "cell_type": "markdown",
   "metadata": {},
   "source": [
    "# Lists/Arrays\n",
    "\n",
    "Python does not have built-in support for Arrays, but Python Lists can be used instead."
   ]
  },
  {
   "cell_type": "code",
   "execution_count": null,
   "metadata": {},
   "outputs": [],
   "source": [
    "arr_strings = ['look', 'I', 'am', 'an', 'array', 'with', 'one', 'dimension']\n",
    "\n",
    "arr_numbers = [1, 8, 2]\n",
    "\n",
    "arr_2_dimensions = [['A', 'B', 'C'], ['Alpha', 'Bravo', 'Charlie']]"
   ]
  },
  {
   "cell_type": "markdown",
   "metadata": {},
   "source": [
    "## Methods\n",
    "\n",
    "```text\n",
    "append()    Adds an element at the end of the list\n",
    "clear()     Removes all the elements from the list\n",
    "copy()\t    Returns a copy of the list\n",
    "count()\t    Returns the number of elements with the specified value\n",
    "extend()    Add the elements of a list (or any iterable), to the end of the current list\n",
    "index()\t    Returns the index of the first element with the specified value\n",
    "insert()    Adds an element at the specified position\n",
    "pop()       Removes the element at the specified position\n",
    "remove()    Removes the first item with the specified value\n",
    "reverse()   Reverses the order of the list\n",
    "sort()      Sorts the list\n",
    "```"
   ]
  },
  {
   "cell_type": "code",
   "execution_count": null,
   "metadata": {},
   "outputs": [],
   "source": [
    "arr_strings"
   ]
  },
  {
   "cell_type": "code",
   "execution_count": null,
   "metadata": {},
   "outputs": [],
   "source": [
    "arr_numbers"
   ]
  },
  {
   "cell_type": "code",
   "execution_count": null,
   "metadata": {},
   "outputs": [],
   "source": [
    "arr_2_dimensions"
   ]
  },
  {
   "cell_type": "markdown",
   "metadata": {},
   "source": [
    "### Append"
   ]
  },
  {
   "cell_type": "code",
   "execution_count": null,
   "metadata": {},
   "outputs": [],
   "source": [
    "arr_strings.append('yeah!')\n",
    "# showing content on jupyter\n",
    "arr_strings"
   ]
  },
  {
   "cell_type": "code",
   "execution_count": null,
   "metadata": {},
   "outputs": [],
   "source": [
    "# let's copy the arr_strings first and assign it to a different variable. We will not modify the original list\n",
    "arr_to_be_cleared = arr_strings[:]\n",
    "arr_to_be_cleared"
   ]
  },
  {
   "cell_type": "markdown",
   "metadata": {},
   "source": [
    "### Clear"
   ]
  },
  {
   "cell_type": "code",
   "execution_count": null,
   "metadata": {},
   "outputs": [],
   "source": [
    "arr_to_be_cleared.clear()\n",
    "arr_to_be_cleared"
   ]
  },
  {
   "cell_type": "markdown",
   "metadata": {},
   "source": [
    "### Copy\n",
    "\n",
    "Although the copy method exists, there are other ways to copy lists"
   ]
  },
  {
   "cell_type": "code",
   "execution_count": null,
   "metadata": {},
   "outputs": [],
   "source": [
    "arr_1 = ['because', 'I', 'believe']\n",
    "arr_1_copy = arr_1.copy()\n",
    "arr_1_copy.append('not')\n",
    "print(arr_1)\n",
    "print(arr_1_copy)\n",
    "# note that the arr_1 did not change, because we've copied it"
   ]
  },
  {
   "cell_type": "markdown",
   "metadata": {},
   "source": [
    "### Count"
   ]
  },
  {
   "cell_type": "code",
   "execution_count": null,
   "metadata": {},
   "outputs": [],
   "source": [
    "count_arr = ['lechuga', 'lechuga', 'bacon', 'leche', 'mariposa']\n",
    "count_arr.count('lechuga')"
   ]
  },
  {
   "cell_type": "markdown",
   "metadata": {},
   "source": [
    "## Iterating Arrays/Lists"
   ]
  },
  {
   "cell_type": "markdown",
   "metadata": {},
   "source": [
    "### for-each"
   ]
  },
  {
   "cell_type": "code",
   "execution_count": null,
   "metadata": {},
   "outputs": [],
   "source": [
    "for i_am_a_str in arr_strings:\n",
    "    print(i_am_a_str.upper())"
   ]
  },
  {
   "cell_type": "code",
   "execution_count": null,
   "metadata": {},
   "outputs": [],
   "source": [
    "# you can also be creative and use the variables as you wish\n",
    "\n",
    "var_index = 0\n",
    "for i_am_a_str in arr_strings:\n",
    "    print(f'index: {var_index}, value: {i_am_a_str}')\n",
    "    # incrementing the index on each iteration loop (this is important!)\n",
    "    var_index += 1\n",
    "\n",
    "print('Keep reading! There is a much better way of doing this... it is called ENUMERATE')"
   ]
  },
  {
   "cell_type": "markdown",
   "metadata": {},
   "source": [
    "### for-each with enumerate\n",
    "\n",
    "The enumerate function basically returns 2 values per item of the array, the index (position) and the value. It is very useful when the index of the element matters in the logic we want to achieve."
   ]
  },
  {
   "cell_type": "code",
   "execution_count": null,
   "metadata": {},
   "outputs": [],
   "source": [
    "for value in enumerate(arr_strings):\n",
    "    print(value)"
   ]
  },
  {
   "cell_type": "code",
   "execution_count": null,
   "metadata": {},
   "outputs": [],
   "source": [
    "# this is how it is done to better make use of the enumareted values\n",
    "for item_index, item_value in enumerate(arr_strings):\n",
    "    # formatting the output to be cool!\n",
    "    print(f'{item_index}:{item_value}')"
   ]
  },
  {
   "cell_type": "code",
   "execution_count": null,
   "metadata": {},
   "outputs": [],
   "source": [
    "# note: the array with 2 dimensions has another array as a value\n",
    "for i_am_an_array in arr_2_dimensions:\n",
    "    print(i_am_an_array)"
   ]
  },
  {
   "cell_type": "code",
   "execution_count": null,
   "metadata": {},
   "outputs": [],
   "source": [
    "for i_am_an_array in arr_2_dimensions:\n",
    "    for inner_loop_value in i_am_an_array:\n",
    "        print(inner_loop_value)"
   ]
  },
  {
   "cell_type": "markdown",
   "metadata": {},
   "source": [
    "Let's say the A B C are headers (first \"row\" of the array) and We want to skip it. Of course there are many ways to achieve that."
   ]
  },
  {
   "cell_type": "code",
   "execution_count": null,
   "metadata": {},
   "outputs": [],
   "source": [
    "for i_row in arr_2_dimensions[1:]:\n",
    "    print(i_row)\n",
    "print('Done! We have skipped the \"header\"')"
   ]
  },
  {
   "cell_type": "code",
   "execution_count": null,
   "metadata": {},
   "outputs": [],
   "source": [
    "# more complicated, but gives the same results\n",
    "for i, value in enumerate(arr_2_dimensions):\n",
    "    if i == 0:\n",
    "        continue\n",
    "    print(value)\n",
    "print('Oops! We did it again ...')"
   ]
  },
  {
   "cell_type": "markdown",
   "metadata": {},
   "source": [
    "## Mapping/Tranforming Arrays"
   ]
  },
  {
   "cell_type": "markdown",
   "metadata": {},
   "source": [
    "### map\n",
    "\n",
    "The map function transforms each item of the array and returns a new array iterator with the values transformed.\n",
    "\n",
    "Let's first define a function that will handle `strings` and return them capitalized."
   ]
  },
  {
   "cell_type": "code",
   "execution_count": null,
   "metadata": {},
   "outputs": [],
   "source": [
    "def capitalize_me(value: str) -> str:\n",
    "    '''This function received a string as argument and returns the capitalized version of it'''\n",
    "    return value.capitalize()"
   ]
  },
  {
   "cell_type": "code",
   "execution_count": null,
   "metadata": {},
   "outputs": [],
   "source": [
    "wrong_values = ['javiera', 'luis', 'maria', 'joaquin']\n",
    "wrong_values"
   ]
  },
  {
   "cell_type": "code",
   "execution_count": null,
   "metadata": {},
   "outputs": [],
   "source": [
    "converted_map = map(capitalize_me, wrong_values)\n",
    "print(converted_map)\n",
    "print('wtf is this?!')"
   ]
  },
  {
   "cell_type": "markdown",
   "metadata": {},
   "source": [
    "To convert a ´Map´ back to a list we need also to use the ´list´ function"
   ]
  },
  {
   "cell_type": "code",
   "execution_count": null,
   "metadata": {},
   "outputs": [],
   "source": [
    "# interesting thing, the list functions converts the map iterator back to list, but also empties the iterator, \n",
    "# so if you execute this code twice it will not work (not a problem, just to keep in mind this behavior)\n",
    "converted_list = list(converted_map)\n",
    "converted_list"
   ]
  },
  {
   "cell_type": "code",
   "execution_count": null,
   "metadata": {},
   "outputs": [],
   "source": [
    "# we still have both lists, because the original list was not modified\n",
    "print(wrong_values)\n",
    "print(converted_list)"
   ]
  },
  {
   "cell_type": "code",
   "execution_count": null,
   "metadata": {},
   "outputs": [],
   "source": [
    "# the same can be achieved using a lambda function (small anonymous function)\n",
    "# Of course we could do everything in a single line. But learning purposes I have split it into multiple statements\n",
    "mapped_values = map(lambda value: value.capitalize(), wrong_values)\n",
    "map_as_list = list(mapped_values)\n",
    "map_as_list"
   ]
  },
  {
   "cell_type": "code",
   "execution_count": null,
   "metadata": {},
   "outputs": [],
   "source": [
    "# Ok, let's do it in a single line\n",
    "list(map(lambda val: val.capitalize(), wrong_values))"
   ]
  }
 ],
 "metadata": {
  "kernelspec": {
   "display_name": "Python 3",
   "language": "python",
   "name": "python3"
  },
  "language_info": {
   "codemirror_mode": {
    "name": "ipython",
    "version": 3
   },
   "file_extension": ".py",
   "mimetype": "text/x-python",
   "name": "python",
   "nbconvert_exporter": "python",
   "pygments_lexer": "ipython3",
   "version": "3.11.9"
  }
 },
 "nbformat": 4,
 "nbformat_minor": 2
}
